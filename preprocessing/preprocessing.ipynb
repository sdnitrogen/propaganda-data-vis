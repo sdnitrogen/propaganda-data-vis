{
 "cells": [
  {
   "cell_type": "code",
   "execution_count": 3,
   "id": "23af96bc-c6c7-4917-b370-31bd02c43e5e",
   "metadata": {},
   "outputs": [],
   "source": [
    "import pandas as pd"
   ]
  },
  {
   "cell_type": "code",
   "execution_count": 4,
   "id": "473389f1-3bb0-421c-ac0b-c43ebccf5c3e",
   "metadata": {},
   "outputs": [],
   "source": [
    "articles1 = pd.read_csv(\"../archive/articles1.csv\")"
   ]
  },
  {
   "cell_type": "code",
   "execution_count": 18,
   "id": "2e9abc0e-987f-4081-b301-3a9a71956b12",
   "metadata": {},
   "outputs": [
    {
     "data": {
      "text/html": [
       "<div>\n",
       "<style scoped>\n",
       "    .dataframe tbody tr th:only-of-type {\n",
       "        vertical-align: middle;\n",
       "    }\n",
       "\n",
       "    .dataframe tbody tr th {\n",
       "        vertical-align: top;\n",
       "    }\n",
       "\n",
       "    .dataframe thead th {\n",
       "        text-align: right;\n",
       "    }\n",
       "</style>\n",
       "<table border=\"1\" class=\"dataframe\">\n",
       "  <thead>\n",
       "    <tr style=\"text-align: right;\">\n",
       "      <th></th>\n",
       "      <th>id</th>\n",
       "      <th>title</th>\n",
       "      <th>publication</th>\n",
       "      <th>date</th>\n",
       "      <th>content</th>\n",
       "      <th>propaganda</th>\n",
       "      <th>bias_leaning</th>\n",
       "      <th>bias_score</th>\n",
       "    </tr>\n",
       "  </thead>\n",
       "  <tbody>\n",
       "    <tr>\n",
       "      <th>0</th>\n",
       "      <td>0</td>\n",
       "      <td>House Republicans Fret About Winning Their Hea...</td>\n",
       "      <td>New York Times</td>\n",
       "      <td>2016-12-31</td>\n",
       "      <td>WASHINGTON  —   Congressional Republicans have...</td>\n",
       "      <td>0.715304</td>\n",
       "      <td>left</td>\n",
       "      <td>0.029687</td>\n",
       "    </tr>\n",
       "    <tr>\n",
       "      <th>1</th>\n",
       "      <td>1</td>\n",
       "      <td>Rift Between Officers and Residents as Killing...</td>\n",
       "      <td>New York Times</td>\n",
       "      <td>2017-06-19</td>\n",
       "      <td>After the bullet shells get counted, the blood...</td>\n",
       "      <td>0.059220</td>\n",
       "      <td>left</td>\n",
       "      <td>0.031264</td>\n",
       "    </tr>\n",
       "    <tr>\n",
       "      <th>2</th>\n",
       "      <td>2</td>\n",
       "      <td>Tyrus Wong, ‘Bambi’ Artist Thwarted by Racial ...</td>\n",
       "      <td>New York Times</td>\n",
       "      <td>2017-01-06</td>\n",
       "      <td>When Walt Disney’s “Bambi” opened in 1942, cri...</td>\n",
       "      <td>0.041925</td>\n",
       "      <td>center</td>\n",
       "      <td>0.714499</td>\n",
       "    </tr>\n",
       "    <tr>\n",
       "      <th>3</th>\n",
       "      <td>3</td>\n",
       "      <td>Among Deaths in 2016, a Heavy Toll in Pop Musi...</td>\n",
       "      <td>New York Times</td>\n",
       "      <td>2017-04-10</td>\n",
       "      <td>Death may be the great equalizer, but it isn’t...</td>\n",
       "      <td>0.027119</td>\n",
       "      <td>left</td>\n",
       "      <td>0.832756</td>\n",
       "    </tr>\n",
       "    <tr>\n",
       "      <th>4</th>\n",
       "      <td>4</td>\n",
       "      <td>Kim Jong-un Says North Korea Is Preparing to T...</td>\n",
       "      <td>New York Times</td>\n",
       "      <td>2017-01-02</td>\n",
       "      <td>SEOUL, South Korea  —   North Korea’s leader, ...</td>\n",
       "      <td>0.823210</td>\n",
       "      <td>left</td>\n",
       "      <td>0.308927</td>\n",
       "    </tr>\n",
       "    <tr>\n",
       "      <th>...</th>\n",
       "      <td>...</td>\n",
       "      <td>...</td>\n",
       "      <td>...</td>\n",
       "      <td>...</td>\n",
       "      <td>...</td>\n",
       "      <td>...</td>\n",
       "      <td>...</td>\n",
       "      <td>...</td>\n",
       "    </tr>\n",
       "    <tr>\n",
       "      <th>49995</th>\n",
       "      <td>49995</td>\n",
       "      <td>Rex Tillerson Says Climate Change Is Real, but …</td>\n",
       "      <td>Atlantic</td>\n",
       "      <td>2017-01-11</td>\n",
       "      <td>As chairman and CEO of ExxonMobil, Rex Tillers...</td>\n",
       "      <td>0.809294</td>\n",
       "      <td>right</td>\n",
       "      <td>0.805617</td>\n",
       "    </tr>\n",
       "    <tr>\n",
       "      <th>49996</th>\n",
       "      <td>49996</td>\n",
       "      <td>The Biggest Intelligence Questions Raised by t...</td>\n",
       "      <td>Atlantic</td>\n",
       "      <td>2017-01-11</td>\n",
       "      <td>I’ve spent nearly 20 years looking at intellig...</td>\n",
       "      <td>0.622417</td>\n",
       "      <td>left</td>\n",
       "      <td>0.861838</td>\n",
       "    </tr>\n",
       "    <tr>\n",
       "      <th>49997</th>\n",
       "      <td>49997</td>\n",
       "      <td>Trump Announces Plan That Does Little to Resol...</td>\n",
       "      <td>Atlantic</td>\n",
       "      <td>2017-01-11</td>\n",
       "      <td>Donald Trump will not be taking necessary st...</td>\n",
       "      <td>0.345873</td>\n",
       "      <td>center</td>\n",
       "      <td>0.707355</td>\n",
       "    </tr>\n",
       "    <tr>\n",
       "      <th>49998</th>\n",
       "      <td>49998</td>\n",
       "      <td>Dozens of For-Profit Colleges Could Soon Close</td>\n",
       "      <td>Atlantic</td>\n",
       "      <td>2017-01-11</td>\n",
       "      <td>Dozens of   colleges could be forced to close ...</td>\n",
       "      <td>0.946874</td>\n",
       "      <td>center</td>\n",
       "      <td>0.157438</td>\n",
       "    </tr>\n",
       "    <tr>\n",
       "      <th>49999</th>\n",
       "      <td>49999</td>\n",
       "      <td>The Milky Way’s Stolen Stars</td>\n",
       "      <td>Atlantic</td>\n",
       "      <td>2017-01-11</td>\n",
       "      <td>The force of gravity can be described using a ...</td>\n",
       "      <td>0.808441</td>\n",
       "      <td>center</td>\n",
       "      <td>0.218446</td>\n",
       "    </tr>\n",
       "  </tbody>\n",
       "</table>\n",
       "<p>50000 rows × 8 columns</p>\n",
       "</div>"
      ],
      "text/plain": [
       "          id                                              title  \\\n",
       "0          0  House Republicans Fret About Winning Their Hea...   \n",
       "1          1  Rift Between Officers and Residents as Killing...   \n",
       "2          2  Tyrus Wong, ‘Bambi’ Artist Thwarted by Racial ...   \n",
       "3          3  Among Deaths in 2016, a Heavy Toll in Pop Musi...   \n",
       "4          4  Kim Jong-un Says North Korea Is Preparing to T...   \n",
       "...      ...                                                ...   \n",
       "49995  49995   Rex Tillerson Says Climate Change Is Real, but …   \n",
       "49996  49996  The Biggest Intelligence Questions Raised by t...   \n",
       "49997  49997  Trump Announces Plan That Does Little to Resol...   \n",
       "49998  49998    Dozens of For-Profit Colleges Could Soon Close    \n",
       "49999  49999                       The Milky Way’s Stolen Stars   \n",
       "\n",
       "          publication        date  \\\n",
       "0      New York Times  2016-12-31   \n",
       "1      New York Times  2017-06-19   \n",
       "2      New York Times  2017-01-06   \n",
       "3      New York Times  2017-04-10   \n",
       "4      New York Times  2017-01-02   \n",
       "...               ...         ...   \n",
       "49995        Atlantic  2017-01-11   \n",
       "49996        Atlantic  2017-01-11   \n",
       "49997        Atlantic  2017-01-11   \n",
       "49998        Atlantic  2017-01-11   \n",
       "49999        Atlantic  2017-01-11   \n",
       "\n",
       "                                                 content  propaganda  \\\n",
       "0      WASHINGTON  —   Congressional Republicans have...    0.715304   \n",
       "1      After the bullet shells get counted, the blood...    0.059220   \n",
       "2      When Walt Disney’s “Bambi” opened in 1942, cri...    0.041925   \n",
       "3      Death may be the great equalizer, but it isn’t...    0.027119   \n",
       "4      SEOUL, South Korea  —   North Korea’s leader, ...    0.823210   \n",
       "...                                                  ...         ...   \n",
       "49995  As chairman and CEO of ExxonMobil, Rex Tillers...    0.809294   \n",
       "49996  I’ve spent nearly 20 years looking at intellig...    0.622417   \n",
       "49997    Donald Trump will not be taking necessary st...    0.345873   \n",
       "49998  Dozens of   colleges could be forced to close ...    0.946874   \n",
       "49999  The force of gravity can be described using a ...    0.808441   \n",
       "\n",
       "      bias_leaning  bias_score  \n",
       "0             left    0.029687  \n",
       "1             left    0.031264  \n",
       "2           center    0.714499  \n",
       "3             left    0.832756  \n",
       "4             left    0.308927  \n",
       "...            ...         ...  \n",
       "49995        right    0.805617  \n",
       "49996         left    0.861838  \n",
       "49997       center    0.707355  \n",
       "49998       center    0.157438  \n",
       "49999       center    0.218446  \n",
       "\n",
       "[50000 rows x 8 columns]"
      ]
     },
     "execution_count": 18,
     "metadata": {},
     "output_type": "execute_result"
    }
   ],
   "source": [
    "articles1"
   ]
  },
  {
   "cell_type": "code",
   "execution_count": 6,
   "id": "11affad5-9f22-4bb5-b701-67986c3b9d19",
   "metadata": {},
   "outputs": [],
   "source": [
    "del articles1['Unnamed: 0']"
   ]
  },
  {
   "cell_type": "code",
   "execution_count": 7,
   "id": "9db959af-6871-40f9-aa6a-75c480721a5e",
   "metadata": {},
   "outputs": [],
   "source": [
    "del articles1['id']"
   ]
  },
  {
   "cell_type": "code",
   "execution_count": 8,
   "id": "63941940-2583-412f-b518-a8cedd4f95ba",
   "metadata": {},
   "outputs": [],
   "source": [
    "del articles1['author']"
   ]
  },
  {
   "cell_type": "code",
   "execution_count": 9,
   "id": "c7ec2771-c1a3-4e82-ae1b-93082c586dcd",
   "metadata": {},
   "outputs": [],
   "source": [
    "del articles1['year']\n",
    "del articles1['month']\n",
    "del articles1['url']"
   ]
  },
  {
   "cell_type": "code",
   "execution_count": 10,
   "id": "faa984b1-eae3-49c8-9eaa-fb7a1c6b7f45",
   "metadata": {},
   "outputs": [
    {
     "data": {
      "text/plain": [
       "title          House Republicans Fret About Winning Their Hea...\n",
       "publication                                       New York Times\n",
       "date                                                  2016-12-31\n",
       "content        WASHINGTON  —   Congressional Republicans have...\n",
       "Name: 0, dtype: object"
      ]
     },
     "execution_count": 10,
     "metadata": {},
     "output_type": "execute_result"
    }
   ],
   "source": [
    "articles1.iloc[0]"
   ]
  },
  {
   "cell_type": "code",
   "execution_count": 11,
   "id": "773149ba-05db-438f-9bb9-195adf0961b8",
   "metadata": {},
   "outputs": [
    {
     "data": {
      "text/plain": [
       "'center'"
      ]
     },
     "execution_count": 11,
     "metadata": {},
     "output_type": "execute_result"
    }
   ],
   "source": [
    "import random\n",
    "random.choice(['left', 'right', 'center'])"
   ]
  },
  {
   "cell_type": "code",
   "execution_count": null,
   "id": "4d922ed6-8998-4ffd-b471-4b5e625c2141",
   "metadata": {},
   "outputs": [],
   "source": []
  },
  {
   "cell_type": "code",
   "execution_count": 12,
   "id": "59dae010-5f09-4f96-bcb8-87728d7e9cbc",
   "metadata": {},
   "outputs": [],
   "source": [
    "articles1['propaganda'] = pd.Series([random.uniform(0,1) for x in range(50000)])"
   ]
  },
  {
   "cell_type": "code",
   "execution_count": 13,
   "id": "abc93d82-2684-426a-b7a7-30a2e4098a6b",
   "metadata": {},
   "outputs": [],
   "source": [
    "articles1['bias_leaning'] = pd.Series([random.choice(['left', 'right', 'center']) for x in range(50000)])"
   ]
  },
  {
   "cell_type": "code",
   "execution_count": 14,
   "id": "63412aa0-c97b-4a5b-bcef-cdddbf188daa",
   "metadata": {},
   "outputs": [],
   "source": [
    "articles1['bias_score'] = pd.Series([random.uniform(0,1) for x in range(50000)])"
   ]
  },
  {
   "cell_type": "code",
   "execution_count": 15,
   "id": "42629e6c-ebb5-42ae-81e7-a1df508cefc7",
   "metadata": {},
   "outputs": [],
   "source": [
    "articles1['id'] = pd.Series(range(50000))"
   ]
  },
  {
   "cell_type": "code",
   "execution_count": 16,
   "id": "af24643c-a007-4eda-97bd-da39273c82e4",
   "metadata": {},
   "outputs": [],
   "source": [
    "articles1.columns = ['title', 'publication', 'date', 'content', 'propaganda', 'bias_leaning', 'bias_score', 'id']"
   ]
  },
  {
   "cell_type": "code",
   "execution_count": 17,
   "id": "b068a83f-2289-4df0-88f2-e0517faf3da9",
   "metadata": {},
   "outputs": [],
   "source": [
    "articles1 = articles1[['id', 'title', 'publication', 'date', 'content', 'propaganda', 'bias_leaning', 'bias_score']]"
   ]
  },
  {
   "cell_type": "code",
   "execution_count": 19,
   "id": "813ab564-91b9-46f5-8908-15f9485741f9",
   "metadata": {},
   "outputs": [],
   "source": [
    "articles1.to_csv(\"../archive/articles1-pp.csv\")"
   ]
  },
  {
   "cell_type": "code",
   "execution_count": null,
   "id": "ffbdfcac-de95-4702-bb84-f3bc2a8eb35d",
   "metadata": {},
   "outputs": [],
   "source": []
  }
 ],
 "metadata": {
  "kernelspec": {
   "display_name": "Python 3 (ipykernel)",
   "language": "python",
   "name": "python3"
  },
  "language_info": {
   "codemirror_mode": {
    "name": "ipython",
    "version": 3
   },
   "file_extension": ".py",
   "mimetype": "text/x-python",
   "name": "python",
   "nbconvert_exporter": "python",
   "pygments_lexer": "ipython3",
   "version": "3.9.7"
  }
 },
 "nbformat": 4,
 "nbformat_minor": 5
}
